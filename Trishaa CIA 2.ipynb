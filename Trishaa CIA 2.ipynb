{
  "nbformat": 4,
  "nbformat_minor": 0,
  "metadata": {
    "colab": {
      "provenance": []
    },
    "kernelspec": {
      "name": "python3",
      "display_name": "Python 3"
    },
    "language_info": {
      "name": "python"
    }
  },
  "cells": [
    {
      "cell_type": "markdown",
      "source": [
        "#                                                                                                                                                         CIA2"
      ],
      "metadata": {
        "id": "cyy2cOTWgd7n"
      }
    },
    {
      "cell_type": "markdown",
      "source": [
        "**Step 1: Grid Creation with Obstacles**"
      ],
      "metadata": {
        "id": "IuoWLAaEhZlY"
      }
    },
    {
      "cell_type": "code",
      "execution_count": 1,
      "metadata": {
        "colab": {
          "base_uri": "https://localhost:8080/"
        },
        "id": "VFeURuLCf2lq",
        "outputId": "88f2ee4d-8fd7-47c3-97c5-b70ff324c6b0"
      },
      "outputs": [
        {
          "output_type": "stream",
          "name": "stdout",
          "text": [
            "Grid with obstacles:\n",
            "[[ 0  0  0 ... -1  0  0]\n",
            " [ 0 -1  0 ...  0 -1  0]\n",
            " [ 0  0 -1 ...  0  0 -1]\n",
            " ...\n",
            " [ 0  0  0 ...  0  0  0]\n",
            " [ 0  0  0 ...  0  0  0]\n",
            " [ 0  0 -1 ...  0 -1  0]]\n"
          ]
        }
      ],
      "source": [
        "import numpy as np\n",
        "import random\n",
        "\n",
        "# Initialize the grid\n",
        "grid_size = 100\n",
        "grid = np.zeros((grid_size, grid_size), dtype=int)\n",
        "\n",
        "# Randomly select start and goal positions\n",
        "start = (random.randint(0, grid_size - 1), random.randint(0, grid_size - 1))\n",
        "goal = (random.randint(0, grid_size - 1), random.randint(0, grid_size - 1))\n",
        "\n",
        "# Ensure start and goal positions are not the same\n",
        "while goal == start:\n",
        "    goal = (random.randint(0, grid_size - 1), random.randint(0, grid_size - 1))\n",
        "\n",
        "# Mark start and goal\n",
        "grid[start] = 1\n",
        "grid[goal] = 2\n",
        "\n",
        "# Place obstacles randomly\n",
        "num_obstacles = int(0.2 * grid_size * grid_size)  # 20% of grid filled with obstacles\n",
        "for _ in range(num_obstacles):\n",
        "    obstacle = (random.randint(0, grid_size - 1), random.randint(0, grid_size - 1))\n",
        "    # Ensure obstacles don't overlap start/goal positions\n",
        "    if obstacle != start and obstacle != goal:\n",
        "        grid[obstacle] = -1\n",
        "\n",
        "# Display grid (1 = start, 2 = goal, -1 = obstacle, 0 = free cell)\n",
        "print(\"Grid with obstacles:\")\n",
        "print(grid)\n"
      ]
    },
    {
      "cell_type": "markdown",
      "source": [
        "**Step 2: MDP Setup**"
      ],
      "metadata": {
        "id": "lGzf8SFjhhrQ"
      }
    },
    {
      "cell_type": "code",
      "source": [
        "# Define actions and rewards\n",
        "actions = ['up', 'down', 'left', 'right']\n",
        "rewards = np.full((grid_size, grid_size), -0.1)  # Small negative reward for each step\n",
        "rewards[goal] = 10  # High reward at the goal\n"
      ],
      "metadata": {
        "id": "FVaWSlASf3gv"
      },
      "execution_count": 2,
      "outputs": []
    },
    {
      "cell_type": "markdown",
      "source": [
        "**Step 3: Dynamic Programming (DP) Solution**"
      ],
      "metadata": {
        "id": "_eePuEXFhotu"
      }
    },
    {
      "cell_type": "code",
      "source": [
        "# Value Iteration parameters\n",
        "discount_factor = 0.9\n",
        "theta = 0.1  # Convergence threshold\n",
        "\n",
        "# Initialize value function\n",
        "value_function = np.zeros((grid_size, grid_size))\n",
        "\n",
        "def get_next_state_and_reward(state, action):\n",
        "    \"\"\" Get the next state and reward based on action taken from the current state. \"\"\"\n",
        "    x, y = state\n",
        "    if action == 'up' and x > 0:\n",
        "        return (x - 1, y), rewards[x - 1, y]\n",
        "    elif action == 'down' and x < grid_size - 1:\n",
        "        return (x + 1, y), rewards[x + 1, y]\n",
        "    elif action == 'left' and y > 0:\n",
        "        return (x, y - 1), rewards[x, y - 1]\n",
        "    elif action == 'right' and y < grid_size - 1:\n",
        "        return (x, y + 1), rewards[x, y + 1]\n",
        "    return state, rewards[state]  # If action leads out of bounds\n",
        "\n",
        "def value_iteration():\n",
        "    while True:\n",
        "        delta = 0\n",
        "        for x in range(grid_size):\n",
        "            for y in range(grid_size):\n",
        "                state = (x, y)\n",
        "                if grid[state] == -1:  # Skip obstacles\n",
        "                    continue\n",
        "                v = value_function[state]\n",
        "                value_function[state] = max(\n",
        "                    sum(\n",
        "                        0.25 * (reward + discount_factor * value_function[next_state])\n",
        "                        for next_state, reward in [get_next_state_and_reward(state, action)]\n",
        "                    )\n",
        "                    for action in actions\n",
        "                )\n",
        "                delta = max(delta, abs(v - value_function[state]))\n",
        "        if delta < theta:\n",
        "            break\n",
        "\n",
        "value_iteration()\n",
        "print(\"Value function after Value Iteration:\")\n",
        "print(value_function)\n"
      ],
      "metadata": {
        "colab": {
          "base_uri": "https://localhost:8080/"
        },
        "id": "Tda5cGe5f80m",
        "outputId": "cd545cd5-2187-434b-a5a9-ed42c95394c9"
      },
      "execution_count": 3,
      "outputs": [
        {
          "output_type": "stream",
          "name": "stdout",
          "text": [
            "Value function after Value Iteration:\n",
            "[[-0.030625   -0.025      -0.030625   ...  0.         -0.025\n",
            "  -0.030625  ]\n",
            " [-0.025       0.         -0.025      ... -0.025       0.\n",
            "  -0.025     ]\n",
            " [-0.030625   -0.025       0.         ... -0.030625   -0.025\n",
            "   0.        ]\n",
            " ...\n",
            " [-0.03189063 -0.030625   -0.030625   ... -0.025      -0.030625\n",
            "  -0.03189063]\n",
            " [-0.03189063 -0.030625   -0.025      ... -0.030625   -0.025\n",
            "  -0.030625  ]\n",
            " [-0.030625   -0.025       0.         ... -0.025       0.\n",
            "  -0.025     ]]\n"
          ]
        }
      ]
    },
    {
      "cell_type": "markdown",
      "source": [
        "**Step 4: Q-Learning**"
      ],
      "metadata": {
        "id": "Rb7_SKwqhwbz"
      }
    },
    {
      "cell_type": "code",
      "source": [
        "# Q-learning parameters\n",
        "alpha = 0.1  # Learning rate\n",
        "epsilon = 0.1  # Exploration rate\n",
        "q_table = np.zeros((grid_size, grid_size, len(actions)))\n",
        "\n",
        "def choose_action(state):\n",
        "    \"\"\" Epsilon-greedy action selection \"\"\"\n",
        "    if random.uniform(0, 1) < epsilon:\n",
        "        return random.choice(actions)  # Explore\n",
        "    x, y = state\n",
        "    return actions[np.argmax(q_table[x, y])]  # Exploit\n",
        "\n",
        "def q_learning(episodes=1000):\n",
        "    for episode in range(episodes):\n",
        "        state = start\n",
        "        while state != goal:\n",
        "            action = choose_action(state)\n",
        "            next_state, reward = get_next_state_and_reward(state, action)\n",
        "            x, y = state\n",
        "            nx, ny = next_state\n",
        "            q_table[x, y, actions.index(action)] += alpha * (\n",
        "                reward + discount_factor * np.max(q_table[nx, ny]) - q_table[x, y, actions.index(action)]\n",
        "            )\n",
        "            state = next_state\n",
        "\n",
        "q_learning()\n",
        "print(\"Q-table after Q-learning:\")\n",
        "print(q_table)\n"
      ],
      "metadata": {
        "colab": {
          "base_uri": "https://localhost:8080/"
        },
        "id": "-Ti_pOjSf-ot",
        "outputId": "b0c1c911-6c13-4b2e-ad5b-ff2c95cbf5df"
      },
      "execution_count": 4,
      "outputs": [
        {
          "output_type": "stream",
          "name": "stdout",
          "text": [
            "Q-table after Q-learning:\n",
            "[[[-0.38059045 -0.38643672 -0.38254196 -0.3844813 ]\n",
            "  [-0.38103618 -0.38480064 -0.38268341 -0.37983528]\n",
            "  [-0.3746265  -0.38021157 -0.38328082 -0.37653833]\n",
            "  ...\n",
            "  [-0.47374503 -0.47680429 -0.47815157 -0.47390979]\n",
            "  [-0.47786726 -0.4755546  -0.47784779 -0.47312703]\n",
            "  [-0.47231657 -0.47366323 -0.47544977 -0.47353855]]\n",
            "\n",
            " [[-0.38469766 -0.38659519 -0.38847789 -0.38390752]\n",
            "  [-0.37971916 -0.38134129 -0.38320479 -0.38371503]\n",
            "  [-0.3800947  -0.37959894 -0.37780775 -0.38296753]\n",
            "  ...\n",
            "  [-0.47690276 -0.47158036 -0.47422398 -0.47275597]\n",
            "  [-0.47673392 -0.47465617 -0.47272373 -0.47448813]\n",
            "  [-0.47582881 -0.47484428 -0.47350758 -0.47399731]]\n",
            "\n",
            " [[-0.38471792 -0.38447064 -0.3814091  -0.38290894]\n",
            "  [-0.38087809 -0.38196759 -0.38364544 -0.37852105]\n",
            "  [-0.37877408 -0.38066658 -0.37799726 -0.37721205]\n",
            "  ...\n",
            "  [-0.47261609 -0.47342908 -0.47481544 -0.46973559]\n",
            "  [-0.47605337 -0.4745259  -0.4709369  -0.47267178]\n",
            "  [-0.47616959 -0.47407869 -0.4734967  -0.47359441]]\n",
            "\n",
            " ...\n",
            "\n",
            " [[-0.38864639 -0.39269091 -0.38745811 -0.39196076]\n",
            "  [-0.38913834 -0.39738428 -0.39365928 -0.39281762]\n",
            "  [-0.39693634 -0.39227084 -0.39370596 -0.39353748]\n",
            "  ...\n",
            "  [-0.57301189 -0.5761097  -0.57443085 -0.57445406]\n",
            "  [-0.57596312 -0.57691152 -0.57484692 -0.57353623]\n",
            "  [-0.57706914 -0.57488221 -0.57421047 -0.57398493]]\n",
            "\n",
            " [[-0.38865374 -0.39257444 -0.39389439 -0.39415364]\n",
            "  [-0.39851116 -0.39043568 -0.38917196 -0.39476955]\n",
            "  [-0.39825641 -0.39167341 -0.38951592 -0.39416245]\n",
            "  ...\n",
            "  [-0.57455458 -0.57437086 -0.57605949 -0.57689291]\n",
            "  [-0.57625829 -0.57515953 -0.57535555 -0.57710276]\n",
            "  [-0.57778728 -0.57676937 -0.57544269 -0.5771473 ]]\n",
            "\n",
            " [[-0.39325737 -0.38871857 -0.3881354  -0.39022791]\n",
            "  [-0.39247274 -0.39269073 -0.38874452 -0.38928955]\n",
            "  [-0.39216139 -0.38759585 -0.38890126 -0.39102137]\n",
            "  ...\n",
            "  [-0.57457948 -0.57350553 -0.57658964 -0.57761167]\n",
            "  [-0.57542118 -0.57779064 -0.57712984 -0.57783889]\n",
            "  [-0.5780049  -0.57792502 -0.57640295 -0.57807237]]]\n"
          ]
        }
      ]
    },
    {
      "cell_type": "markdown",
      "source": [
        "**Step 5: Benchmarking**"
      ],
      "metadata": {
        "id": "gUTWN0LGh0pL"
      }
    },
    {
      "cell_type": "code",
      "source": [
        "import time\n",
        "\n",
        "def run_dp_benchmark():\n",
        "    start_time = time.time()\n",
        "    value_iteration()  # Run Value Iteration for DP\n",
        "    dp_time = time.time() - start_time\n",
        "\n",
        "    path_length, total_reward = get_path_and_reward(start, goal, method=\"dp\")\n",
        "    return dp_time, path_length, total_reward\n",
        "\n",
        "def run_q_learning_benchmark():\n",
        "    start_time = time.time()\n",
        "    q_learning(episodes=1000)  # Run Q-learning\n",
        "    q_time = time.time() - start_time\n",
        "\n",
        "    path_length, total_reward = get_path_and_reward(start, goal, method=\"q_learning\")\n",
        "    return q_time, path_length, total_reward\n"
      ],
      "metadata": {
        "id": "WcRLsR78gN-H"
      },
      "execution_count": 5,
      "outputs": []
    },
    {
      "cell_type": "code",
      "source": [
        "def get_path_and_reward(start, goal, method=\"dp\"):\n",
        "    state = start\n",
        "    path_length = 0\n",
        "    total_reward = 0\n",
        "    discount = 1.0  # To accumulate discounted rewards if needed\n",
        "\n",
        "    while state != goal:\n",
        "        x, y = state\n",
        "        if method == \"dp\":\n",
        "            # Select the action with the maximum value function\n",
        "            best_action = max(\n",
        "                actions, key=lambda a: get_next_state_and_reward(state, a)[1] +\n",
        "                discount_factor * value_function[get_next_state_and_reward(state, a)[0]]\n",
        "            )\n",
        "        elif method == \"q_learning\":\n",
        "            # Select the action with the maximum Q-value\n",
        "            best_action = actions[np.argmax(q_table[x, y])]\n",
        "\n",
        "        next_state, reward = get_next_state_and_reward(state, best_action)\n",
        "        total_reward += reward * discount\n",
        "        discount *= discount_factor\n",
        "        state = next_state\n",
        "        path_length += 1\n",
        "\n",
        "        # Stop if stuck in a loop or can't reach goal due to obstacles\n",
        "        if path_length > grid_size * grid_size:\n",
        "            break\n",
        "\n",
        "    return path_length, total_reward\n"
      ],
      "metadata": {
        "id": "pPeq2CsBgWIS"
      },
      "execution_count": 6,
      "outputs": []
    },
    {
      "cell_type": "code",
      "source": [
        "dp_time, dp_path_length, dp_reward = run_dp_benchmark()\n",
        "q_time, q_path_length, q_reward = run_q_learning_benchmark()\n",
        "\n",
        "print(\"Benchmark Results:\")\n",
        "print(f\"{'Method':<15}{'Time (s)':<10}{'Path Length':<15}{'Total Reward':<15}\")\n",
        "print(f\"{'Dynamic Programming':<15}{dp_time:<10.4f}{dp_path_length:<15}{dp_reward:<15.2f}\")\n",
        "print(f\"{'Q-Learning':<15}{q_time:<10.4f}{q_path_length:<15}{q_reward:<15.2f}\")\n"
      ],
      "metadata": {
        "colab": {
          "base_uri": "https://localhost:8080/"
        },
        "id": "iXH0V5v9gYKG",
        "outputId": "c6b8daf2-100e-4fae-8c2f-d4fa13c2d9eb"
      },
      "execution_count": 7,
      "outputs": [
        {
          "output_type": "stream",
          "name": "stdout",
          "text": [
            "Benchmark Results:\n",
            "Method         Time (s)  Path Length    Total Reward   \n",
            "Dynamic Programming0.3079    10001          -1.00          \n",
            "Q-Learning     5.0710    31             -0.53          \n"
          ]
        }
      ]
    },
    {
      "cell_type": "markdown",
      "source": [
        "**INFERENCE**"
      ],
      "metadata": {
        "id": "L2x4Y0-MiMfQ"
      }
    },
    {
      "cell_type": "markdown",
      "source": [
        "**Convergence Time:**\n",
        "\n",
        "DP: Slower but guarantees optimal policy.\n",
        "\n",
        "Q-Learning: Faster but depends on parameters (may need more episodes for optimal results).\n",
        "\n",
        "**Path Length:**\n",
        "\n",
        "DP: Shorter, as it finds the optimal path.\n",
        "\n",
        "Q-Learning: Can be close to DP with enough training; may initially be longer.\n",
        "\n",
        "**Total Reward:**\n",
        "\n",
        "DP: Highest possible reward due to optimal policy.\n",
        "\n",
        "Q-Learning: Can approximate DP’s reward with sufficient training."
      ],
      "metadata": {
        "id": "ixRau7CKg1-V"
      }
    },
    {
      "cell_type": "code",
      "source": [],
      "metadata": {
        "id": "5zJUpLzahFy1"
      },
      "execution_count": null,
      "outputs": []
    }
  ]
}