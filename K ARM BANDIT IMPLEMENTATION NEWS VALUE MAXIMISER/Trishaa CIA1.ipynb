{
  "nbformat": 4,
  "nbformat_minor": 0,
  "metadata": {
    "colab": {
      "provenance": []
    },
    "kernelspec": {
      "name": "python3",
      "display_name": "Python 3"
    },
    "language_info": {
      "name": "python"
    }
  },
  "cells": [
    {
      "cell_type": "markdown",
      "source": [
        "**CIA1**"
      ],
      "metadata": {
        "id": "-QUGsTaRkSd0"
      }
    },
    {
      "cell_type": "markdown",
      "source": [
        "DATASET AND REWARD MECHANISM"
      ],
      "metadata": {
        "id": "xPFtKMpbke2V"
      }
    },
    {
      "cell_type": "code",
      "source": [
        "import numpy as np\n",
        "import pandas as pd\n",
        "import random\n",
        "\n",
        "# Generate a simulated dataset of articles\n",
        "np.random.seed(42)\n",
        "\n",
        "def create_dataset(num_articles=100):\n",
        "    articles = []\n",
        "    for i in range(num_articles):\n",
        "        article = {\n",
        "            'id': i,\n",
        "            'title': f\"Article {i}\",\n",
        "            'views': np.random.randint(50, 1000),\n",
        "            'alignment': random.choice(['aligned', 'neutral', 'unaligned']),  # Representing political or commercial alignment\n",
        "        }\n",
        "        articles.append(article)\n",
        "    return pd.DataFrame(articles)\n",
        "\n",
        "articles_df = create_dataset()\n",
        "\n",
        "# Define the reward mechanism based on alignment and boosted views\n",
        "def calculate_reward(article, views_boosted):\n",
        "    if article['alignment'] == 'aligned':\n",
        "        reward = views_boosted * 1.5  # Higher reward for aligned articles\n",
        "    elif article['alignment'] == 'neutral':\n",
        "        reward = views_boosted * 1.0\n",
        "    else:\n",
        "        reward = views_boosted * 0.5  # Lower reward for unaligned articles\n",
        "    return reward\n"
      ],
      "metadata": {
        "id": "IY9d6Ww7kV-p"
      },
      "execution_count": 1,
      "outputs": []
    },
    {
      "cell_type": "markdown",
      "source": [
        "K ARM BANDIT APPROACH"
      ],
      "metadata": {
        "id": "9bQAHCQ7ki7a"
      }
    },
    {
      "cell_type": "code",
      "source": [
        "class NewsValueMaximizerBandit:\n",
        "    def __init__(self, articles_df, epsilon=0.1):\n",
        "        self.articles_df = articles_df\n",
        "        self.epsilon = epsilon  # Exploration rate\n",
        "        self.article_rewards = {article_id: 0 for article_id in articles_df['id']}  # Store total reward per article\n",
        "        self.article_counts = {article_id: 0 for article_id in articles_df['id']}  # Track how often each article is selected\n",
        "\n",
        "    def select_article(self):\n",
        "        # Epsilon-greedy strategy: explore or exploit\n",
        "        if random.uniform(0, 1) < self.epsilon:\n",
        "            return random.choice(self.articles_df['id'].tolist())\n",
        "        else:\n",
        "            # Exploit: select the article with the highest average reward\n",
        "            avg_rewards = {article_id: (self.article_rewards[article_id] / self.article_counts[article_id]\n",
        "                                        if self.article_counts[article_id] > 0 else 0)\n",
        "                           for article_id in self.article_rewards}\n",
        "            return max(avg_rewards, key=avg_rewards.get)\n",
        "\n",
        "    def update_rewards(self, article_id, reward):\n",
        "        # Update reward and count for the selected article\n",
        "        self.article_rewards[article_id] += reward\n",
        "        self.article_counts[article_id] += 1\n"
      ],
      "metadata": {
        "id": "YhH7W9v8kbku"
      },
      "execution_count": 2,
      "outputs": []
    },
    {
      "cell_type": "code",
      "source": [
        "num_rounds = 1000  # Number of rounds to simulate\n",
        "\n",
        "agent = NewsValueMaximizerBandit(articles_df, epsilon=0.1)\n",
        "\n",
        "for round in range(num_rounds):\n",
        "    # Select an article based on epsilon-greedy policy\n",
        "    article_id = agent.select_article()\n",
        "    article = articles_df[articles_df['id'] == article_id].iloc[0]\n",
        "\n",
        "    # Simulate boosting views for the article\n",
        "    views_boosted = np.random.randint(50, 200)  # Example boosted views\n",
        "    reward = calculate_reward(article, views_boosted)  # Calculate reward\n",
        "\n",
        "    # Update the agent with the received reward\n",
        "    agent.update_rewards(article_id, reward)\n",
        "\n",
        "    if round % 100 == 0:\n",
        "        print(f\"Round {round}: Promoted article {article_id} ({article['alignment']}) - Reward: {reward:.2f}\")\n",
        "\n",
        "# Final results\n",
        "print(\"\\nFinal Average Rewards for Top Articles:\")\n",
        "top_articles = sorted(agent.article_rewards.keys(), key=lambda x: agent.article_rewards[x] / max(agent.article_counts[x], 1), reverse=True)\n",
        "for article_id in top_articles[:10]:  # Display top 10 articles by average reward\n",
        "    avg_reward = agent.article_rewards[article_id] / max(agent.article_counts[article_id], 1)\n",
        "    alignment = articles_df[articles_df['id'] == article_id].iloc[0]['alignment']\n",
        "    print(f\"Article {article_id} ({alignment}) - Average Reward: {avg_reward:.2f}\")\n"
      ],
      "metadata": {
        "colab": {
          "base_uri": "https://localhost:8080/"
        },
        "id": "ZawX4BHRknkk",
        "outputId": "d508995c-77a9-49f2-a242-2875717252c9"
      },
      "execution_count": 3,
      "outputs": [
        {
          "output_type": "stream",
          "name": "stdout",
          "text": [
            "Round 0: Promoted article 1 (unaligned) - Reward: 48.50\n",
            "Round 100: Promoted article 9 (aligned) - Reward: 268.50\n",
            "Round 200: Promoted article 9 (aligned) - Reward: 126.00\n",
            "Round 300: Promoted article 9 (aligned) - Reward: 160.50\n",
            "Round 400: Promoted article 9 (aligned) - Reward: 87.00\n",
            "Round 500: Promoted article 9 (aligned) - Reward: 135.00\n",
            "Round 600: Promoted article 9 (aligned) - Reward: 216.00\n",
            "Round 700: Promoted article 9 (aligned) - Reward: 241.50\n",
            "Round 800: Promoted article 9 (aligned) - Reward: 132.00\n",
            "Round 900: Promoted article 71 (neutral) - Reward: 166.00\n",
            "\n",
            "Final Average Rewards for Top Articles:\n",
            "Article 9 (aligned) - Average Reward: 189.98\n",
            "Article 39 (aligned) - Average Reward: 189.58\n",
            "Article 92 (aligned) - Average Reward: 189.46\n",
            "Article 26 (aligned) - Average Reward: 189.06\n",
            "Article 3 (aligned) - Average Reward: 187.08\n",
            "Article 47 (aligned) - Average Reward: 185.50\n",
            "Article 25 (aligned) - Average Reward: 185.25\n",
            "Article 21 (aligned) - Average Reward: 183.00\n",
            "Article 55 (aligned) - Average Reward: 178.50\n",
            "Article 45 (aligned) - Average Reward: 168.00\n"
          ]
        }
      ]
    },
    {
      "cell_type": "code",
      "source": [],
      "metadata": {
        "id": "6QyorPeskpld"
      },
      "execution_count": null,
      "outputs": []
    }
  ]
}